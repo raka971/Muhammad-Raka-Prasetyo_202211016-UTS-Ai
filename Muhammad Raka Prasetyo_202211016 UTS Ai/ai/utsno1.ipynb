{
  "nbformat": 4,
  "nbformat_minor": 0,
  "metadata": {
    "colab": {
      "provenance": []
    },
    "kernelspec": {
      "name": "python3",
      "display_name": "Python 3"
    },
    "language_info": {
      "name": "python"
    }
  },
  "cells": [
    {
      "cell_type": "code",
      "execution_count": 1,
      "metadata": {
        "id": "ZCMh-WCDSCoC"
      },
      "outputs": [],
      "source": [
        "data = [[1,2,3],[4,5,6], [7,8,9]]"
      ]
    },
    {
      "cell_type": "code",
      "source": [
        "for row in data:\n",
        "  print(row)"
      ],
      "metadata": {
        "colab": {
          "base_uri": "https://localhost:8080/"
        },
        "id": "wOm5uTQjSYgu",
        "outputId": "e024a64e-953b-4954-e03c-0c52a661fdff"
      },
      "execution_count": 2,
      "outputs": [
        {
          "output_type": "stream",
          "name": "stdout",
          "text": [
            "[1, 2, 3]\n",
            "[4, 5, 6]\n",
            "[7, 8, 9]\n"
          ]
        }
      ]
    }
  ]
}