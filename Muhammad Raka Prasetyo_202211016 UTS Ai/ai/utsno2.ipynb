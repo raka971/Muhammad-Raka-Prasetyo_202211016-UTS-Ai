{
  "nbformat": 4,
  "nbformat_minor": 0,
  "metadata": {
    "colab": {
      "provenance": []
    },
    "kernelspec": {
      "name": "python3",
      "display_name": "Python 3"
    },
    "language_info": {
      "name": "python"
    }
  },
  "cells": [
    {
      "cell_type": "code",
      "execution_count": 1,
      "metadata": {
        "id": "ogwEYnyS3CtO"
      },
      "outputs": [],
      "source": [
        "import math"
      ]
    },
    {
      "cell_type": "code",
      "source": [
        "p1 = [1, 2]\n",
        "p2 = [3, 4]"
      ],
      "metadata": {
        "id": "hvbsqn2-RiTK"
      },
      "execution_count": 2,
      "outputs": []
    },
    {
      "cell_type": "code",
      "source": [
        "jarak = math.sqrt((p2[0] - p1[0])**2 + (p2[1] - p1[1])**2)\n",
        "jarak"
      ],
      "metadata": {
        "colab": {
          "base_uri": "https://localhost:8080/"
        },
        "id": "EdTnjXoYRmON",
        "outputId": "d447a308-45ec-4ff0-8a30-5426eb850136"
      },
      "execution_count": 3,
      "outputs": [
        {
          "output_type": "execute_result",
          "data": {
            "text/plain": [
              "2.8284271247461903"
            ]
          },
          "metadata": {},
          "execution_count": 3
        }
      ]
    }
  ]
}